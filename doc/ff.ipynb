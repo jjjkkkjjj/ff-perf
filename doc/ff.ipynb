{
 "metadata": {
  "language_info": {
   "codemirror_mode": {
    "name": "ipython",
    "version": 3
   },
   "file_extension": ".py",
   "mimetype": "text/x-python",
   "name": "python",
   "nbconvert_exporter": "python",
   "pygments_lexer": "ipython3",
   "version": "3.7.8"
  },
  "orig_nbformat": 2,
  "kernelspec": {
   "name": "python378jvsc74a57bd080df8f2ee3852abcb1927636e3daa7e9aa6be910b1e866d604338609077b72da",
   "display_name": "Python 3.7.8 64-bit ('hexoskin': conda)"
  }
 },
 "nbformat": 4,
 "nbformat_minor": 2,
 "cells": [
  {
   "cell_type": "code",
   "execution_count": 1,
   "metadata": {},
   "outputs": [],
   "source": [
    "import numpy as np"
   ]
  },
  {
   "cell_type": "code",
   "execution_count": 7,
   "metadata": {},
   "outputs": [],
   "source": [
    "def calc_ff(time, trimp, tau):\n",
    "    return np.convolve(np.exp(-time/tau), trimp)"
   ]
  },
  {
   "cell_type": "code",
   "execution_count": 8,
   "metadata": {},
   "outputs": [],
   "source": [
    "time = np.arange(10)\n",
    "trimp = np.array([10,0,0,20,20,0,0,10,10,0])"
   ]
  },
  {
   "cell_type": "code",
   "execution_count": 9,
   "metadata": {},
   "outputs": [
    {
     "output_type": "execute_result",
     "data": {
      "text/plain": [
       "array([10.        ,  9.35506985,  8.75173319, 28.18730753, 46.36942308,\n",
       "       43.37891919, 40.5812819 , 47.96407268, 54.87072502, 51.33194653,\n",
       "       42.88722335, 40.12129701, 37.5337536 , 24.84474629, 12.97409131,\n",
       "       12.13735305, 11.35457856,  5.48811636,  0.        ])"
      ]
     },
     "metadata": {},
     "execution_count": 9
    }
   ],
   "source": [
    "#dt = np.diff(time, prepend=time[0])\n",
    "np.convolve(np.exp(-time/15), trimp)"
   ]
  },
  {
   "cell_type": "code",
   "execution_count": 13,
   "metadata": {},
   "outputs": [
    {
     "output_type": "execute_result",
     "data": {
      "text/plain": [
       "(19,)"
      ]
     },
     "metadata": {},
     "execution_count": 13
    }
   ],
   "source": [
    "np.convolve(np.exp(-time/15), trimp, 'full').shape"
   ]
  },
  {
   "cell_type": "code",
   "execution_count": null,
   "metadata": {},
   "outputs": [],
   "source": []
  }
 ]
}